{
 "cells": [
  {
   "cell_type": "code",
   "execution_count": 28,
   "metadata": {},
   "outputs": [],
   "source": [
    "import scipy.cluster.hierarchy as shc\n",
    "from sklearn.cluster import AgglomerativeClustering\n",
    "from sklearn.preprocessing import normalize\n",
    "import pandas as pd\n",
    "from sklearn.decomposition import PCA\n",
    "import numpy as np\n",
    "\n",
    "\n"
   ]
  },
  {
   "cell_type": "code",
   "execution_count": 29,
   "metadata": {},
   "outputs": [
    {
     "data": {
      "text/html": [
       "<div>\n",
       "<style scoped>\n",
       "    .dataframe tbody tr th:only-of-type {\n",
       "        vertical-align: middle;\n",
       "    }\n",
       "\n",
       "    .dataframe tbody tr th {\n",
       "        vertical-align: top;\n",
       "    }\n",
       "\n",
       "    .dataframe thead th {\n",
       "        text-align: right;\n",
       "    }\n",
       "</style>\n",
       "<table border=\"1\" class=\"dataframe\">\n",
       "  <thead>\n",
       "    <tr style=\"text-align: right;\">\n",
       "      <th></th>\n",
       "      <th>Unnamed: 0</th>\n",
       "      <th>Work_Experience</th>\n",
       "      <th>Family_Size</th>\n",
       "      <th>Graduated_No</th>\n",
       "      <th>Graduated_Yes</th>\n",
       "      <th>Graduated_nan</th>\n",
       "      <th>Profession_encoded</th>\n",
       "      <th>Var_1_encoded</th>\n",
       "      <th>Gender_Female</th>\n",
       "      <th>Gender_Male</th>\n",
       "      <th>Ever_Married_No</th>\n",
       "      <th>Ever_Married_Yes</th>\n",
       "      <th>Ever_Married_nan</th>\n",
       "      <th>Spending_Score_Average</th>\n",
       "      <th>Spending_Score_High</th>\n",
       "      <th>Spending_Score_Low</th>\n",
       "      <th>Age_bucket</th>\n",
       "    </tr>\n",
       "  </thead>\n",
       "  <tbody>\n",
       "    <tr>\n",
       "      <th>0</th>\n",
       "      <td>0</td>\n",
       "      <td>0.000000</td>\n",
       "      <td>0.000</td>\n",
       "      <td>0.0</td>\n",
       "      <td>1.0</td>\n",
       "      <td>0.0</td>\n",
       "      <td>0.222222</td>\n",
       "      <td>0.714286</td>\n",
       "      <td>1.0</td>\n",
       "      <td>0.0</td>\n",
       "      <td>0.0</td>\n",
       "      <td>1.0</td>\n",
       "      <td>0.0</td>\n",
       "      <td>0.0</td>\n",
       "      <td>0.0</td>\n",
       "      <td>1.0</td>\n",
       "      <td>0.25</td>\n",
       "    </tr>\n",
       "    <tr>\n",
       "      <th>1</th>\n",
       "      <td>1</td>\n",
       "      <td>0.571429</td>\n",
       "      <td>0.375</td>\n",
       "      <td>0.0</td>\n",
       "      <td>1.0</td>\n",
       "      <td>0.0</td>\n",
       "      <td>0.555556</td>\n",
       "      <td>0.714286</td>\n",
       "      <td>0.0</td>\n",
       "      <td>1.0</td>\n",
       "      <td>0.0</td>\n",
       "      <td>1.0</td>\n",
       "      <td>0.0</td>\n",
       "      <td>1.0</td>\n",
       "      <td>0.0</td>\n",
       "      <td>0.0</td>\n",
       "      <td>0.50</td>\n",
       "    </tr>\n",
       "    <tr>\n",
       "      <th>2</th>\n",
       "      <td>2</td>\n",
       "      <td>0.000000</td>\n",
       "      <td>0.000</td>\n",
       "      <td>1.0</td>\n",
       "      <td>0.0</td>\n",
       "      <td>0.0</td>\n",
       "      <td>1.000000</td>\n",
       "      <td>0.714286</td>\n",
       "      <td>1.0</td>\n",
       "      <td>0.0</td>\n",
       "      <td>0.0</td>\n",
       "      <td>1.0</td>\n",
       "      <td>0.0</td>\n",
       "      <td>0.0</td>\n",
       "      <td>0.0</td>\n",
       "      <td>1.0</td>\n",
       "      <td>1.00</td>\n",
       "    </tr>\n",
       "    <tr>\n",
       "      <th>3</th>\n",
       "      <td>3</td>\n",
       "      <td>0.785714</td>\n",
       "      <td>0.125</td>\n",
       "      <td>1.0</td>\n",
       "      <td>0.0</td>\n",
       "      <td>0.0</td>\n",
       "      <td>0.444444</td>\n",
       "      <td>0.714286</td>\n",
       "      <td>0.0</td>\n",
       "      <td>1.0</td>\n",
       "      <td>0.0</td>\n",
       "      <td>1.0</td>\n",
       "      <td>0.0</td>\n",
       "      <td>0.0</td>\n",
       "      <td>1.0</td>\n",
       "      <td>0.0</td>\n",
       "      <td>1.00</td>\n",
       "    </tr>\n",
       "    <tr>\n",
       "      <th>4</th>\n",
       "      <td>4</td>\n",
       "      <td>0.182375</td>\n",
       "      <td>0.375</td>\n",
       "      <td>1.0</td>\n",
       "      <td>0.0</td>\n",
       "      <td>0.0</td>\n",
       "      <td>0.888889</td>\n",
       "      <td>0.714286</td>\n",
       "      <td>1.0</td>\n",
       "      <td>0.0</td>\n",
       "      <td>1.0</td>\n",
       "      <td>0.0</td>\n",
       "      <td>0.0</td>\n",
       "      <td>0.0</td>\n",
       "      <td>0.0</td>\n",
       "      <td>1.0</td>\n",
       "      <td>0.00</td>\n",
       "    </tr>\n",
       "  </tbody>\n",
       "</table>\n",
       "</div>"
      ],
      "text/plain": [
       "   Unnamed: 0  Work_Experience  Family_Size  Graduated_No  Graduated_Yes  \\\n",
       "0           0         0.000000        0.000           0.0            1.0   \n",
       "1           1         0.571429        0.375           0.0            1.0   \n",
       "2           2         0.000000        0.000           1.0            0.0   \n",
       "3           3         0.785714        0.125           1.0            0.0   \n",
       "4           4         0.182375        0.375           1.0            0.0   \n",
       "\n",
       "   Graduated_nan  Profession_encoded  Var_1_encoded  Gender_Female  \\\n",
       "0            0.0            0.222222       0.714286            1.0   \n",
       "1            0.0            0.555556       0.714286            0.0   \n",
       "2            0.0            1.000000       0.714286            1.0   \n",
       "3            0.0            0.444444       0.714286            0.0   \n",
       "4            0.0            0.888889       0.714286            1.0   \n",
       "\n",
       "   Gender_Male  Ever_Married_No  Ever_Married_Yes  Ever_Married_nan  \\\n",
       "0          0.0              0.0               1.0               0.0   \n",
       "1          1.0              0.0               1.0               0.0   \n",
       "2          0.0              0.0               1.0               0.0   \n",
       "3          1.0              0.0               1.0               0.0   \n",
       "4          0.0              1.0               0.0               0.0   \n",
       "\n",
       "   Spending_Score_Average  Spending_Score_High  Spending_Score_Low  Age_bucket  \n",
       "0                     0.0                  0.0                 1.0        0.25  \n",
       "1                     1.0                  0.0                 0.0        0.50  \n",
       "2                     0.0                  0.0                 1.0        1.00  \n",
       "3                     0.0                  1.0                 0.0        1.00  \n",
       "4                     0.0                  0.0                 1.0        0.00  "
      ]
     },
     "execution_count": 29,
     "metadata": {},
     "output_type": "execute_result"
    }
   ],
   "source": [
    "data = pd.read_csv('data.csv')\n",
    "data.head()"
   ]
  },
  {
   "cell_type": "code",
   "execution_count": 30,
   "metadata": {},
   "outputs": [
    {
     "data": {
      "text/html": [
       "<div>\n",
       "<style scoped>\n",
       "    .dataframe tbody tr th:only-of-type {\n",
       "        vertical-align: middle;\n",
       "    }\n",
       "\n",
       "    .dataframe tbody tr th {\n",
       "        vertical-align: top;\n",
       "    }\n",
       "\n",
       "    .dataframe thead th {\n",
       "        text-align: right;\n",
       "    }\n",
       "</style>\n",
       "<table border=\"1\" class=\"dataframe\">\n",
       "  <thead>\n",
       "    <tr style=\"text-align: right;\">\n",
       "      <th></th>\n",
       "      <th>Unnamed: 0</th>\n",
       "      <th>Work_Experience</th>\n",
       "      <th>Family_Size</th>\n",
       "      <th>Graduated_No</th>\n",
       "      <th>Graduated_Yes</th>\n",
       "      <th>Graduated_nan</th>\n",
       "      <th>Profession_encoded</th>\n",
       "      <th>Var_1_encoded</th>\n",
       "      <th>Gender_Female</th>\n",
       "      <th>Gender_Male</th>\n",
       "      <th>Ever_Married_No</th>\n",
       "      <th>Ever_Married_Yes</th>\n",
       "      <th>Ever_Married_nan</th>\n",
       "      <th>Spending_Score_Average</th>\n",
       "      <th>Spending_Score_High</th>\n",
       "      <th>Spending_Score_Low</th>\n",
       "      <th>Age_bucket</th>\n",
       "    </tr>\n",
       "  </thead>\n",
       "  <tbody>\n",
       "    <tr>\n",
       "      <th>0</th>\n",
       "      <td>0.000000</td>\n",
       "      <td>0.000000</td>\n",
       "      <td>0.000000</td>\n",
       "      <td>0.000000</td>\n",
       "      <td>0.465137</td>\n",
       "      <td>0.0</td>\n",
       "      <td>0.103364</td>\n",
       "      <td>0.332241</td>\n",
       "      <td>0.465137</td>\n",
       "      <td>0.000000</td>\n",
       "      <td>0.000000</td>\n",
       "      <td>0.465137</td>\n",
       "      <td>0.0</td>\n",
       "      <td>0.000000</td>\n",
       "      <td>0.000000</td>\n",
       "      <td>0.465137</td>\n",
       "      <td>0.116284</td>\n",
       "    </tr>\n",
       "    <tr>\n",
       "      <th>1</th>\n",
       "      <td>0.391151</td>\n",
       "      <td>0.223515</td>\n",
       "      <td>0.146681</td>\n",
       "      <td>0.000000</td>\n",
       "      <td>0.391151</td>\n",
       "      <td>0.0</td>\n",
       "      <td>0.217306</td>\n",
       "      <td>0.279393</td>\n",
       "      <td>0.000000</td>\n",
       "      <td>0.391151</td>\n",
       "      <td>0.000000</td>\n",
       "      <td>0.391151</td>\n",
       "      <td>0.0</td>\n",
       "      <td>0.391151</td>\n",
       "      <td>0.000000</td>\n",
       "      <td>0.000000</td>\n",
       "      <td>0.195575</td>\n",
       "    </tr>\n",
       "    <tr>\n",
       "      <th>2</th>\n",
       "      <td>0.616914</td>\n",
       "      <td>0.000000</td>\n",
       "      <td>0.000000</td>\n",
       "      <td>0.308457</td>\n",
       "      <td>0.000000</td>\n",
       "      <td>0.0</td>\n",
       "      <td>0.308457</td>\n",
       "      <td>0.220326</td>\n",
       "      <td>0.308457</td>\n",
       "      <td>0.000000</td>\n",
       "      <td>0.000000</td>\n",
       "      <td>0.308457</td>\n",
       "      <td>0.0</td>\n",
       "      <td>0.000000</td>\n",
       "      <td>0.000000</td>\n",
       "      <td>0.308457</td>\n",
       "      <td>0.308457</td>\n",
       "    </tr>\n",
       "    <tr>\n",
       "      <th>3</th>\n",
       "      <td>0.765947</td>\n",
       "      <td>0.200605</td>\n",
       "      <td>0.031914</td>\n",
       "      <td>0.255316</td>\n",
       "      <td>0.000000</td>\n",
       "      <td>0.0</td>\n",
       "      <td>0.113474</td>\n",
       "      <td>0.182368</td>\n",
       "      <td>0.000000</td>\n",
       "      <td>0.255316</td>\n",
       "      <td>0.000000</td>\n",
       "      <td>0.255316</td>\n",
       "      <td>0.0</td>\n",
       "      <td>0.000000</td>\n",
       "      <td>0.255316</td>\n",
       "      <td>0.000000</td>\n",
       "      <td>0.255316</td>\n",
       "    </tr>\n",
       "    <tr>\n",
       "      <th>4</th>\n",
       "      <td>0.863180</td>\n",
       "      <td>0.039356</td>\n",
       "      <td>0.080923</td>\n",
       "      <td>0.215795</td>\n",
       "      <td>0.000000</td>\n",
       "      <td>0.0</td>\n",
       "      <td>0.191818</td>\n",
       "      <td>0.154139</td>\n",
       "      <td>0.215795</td>\n",
       "      <td>0.000000</td>\n",
       "      <td>0.215795</td>\n",
       "      <td>0.000000</td>\n",
       "      <td>0.0</td>\n",
       "      <td>0.000000</td>\n",
       "      <td>0.000000</td>\n",
       "      <td>0.215795</td>\n",
       "      <td>0.000000</td>\n",
       "    </tr>\n",
       "  </tbody>\n",
       "</table>\n",
       "</div>"
      ],
      "text/plain": [
       "   Unnamed: 0  Work_Experience  Family_Size  Graduated_No  Graduated_Yes  \\\n",
       "0    0.000000         0.000000     0.000000      0.000000       0.465137   \n",
       "1    0.391151         0.223515     0.146681      0.000000       0.391151   \n",
       "2    0.616914         0.000000     0.000000      0.308457       0.000000   \n",
       "3    0.765947         0.200605     0.031914      0.255316       0.000000   \n",
       "4    0.863180         0.039356     0.080923      0.215795       0.000000   \n",
       "\n",
       "   Graduated_nan  Profession_encoded  Var_1_encoded  Gender_Female  \\\n",
       "0            0.0            0.103364       0.332241       0.465137   \n",
       "1            0.0            0.217306       0.279393       0.000000   \n",
       "2            0.0            0.308457       0.220326       0.308457   \n",
       "3            0.0            0.113474       0.182368       0.000000   \n",
       "4            0.0            0.191818       0.154139       0.215795   \n",
       "\n",
       "   Gender_Male  Ever_Married_No  Ever_Married_Yes  Ever_Married_nan  \\\n",
       "0     0.000000         0.000000          0.465137               0.0   \n",
       "1     0.391151         0.000000          0.391151               0.0   \n",
       "2     0.000000         0.000000          0.308457               0.0   \n",
       "3     0.255316         0.000000          0.255316               0.0   \n",
       "4     0.000000         0.215795          0.000000               0.0   \n",
       "\n",
       "   Spending_Score_Average  Spending_Score_High  Spending_Score_Low  Age_bucket  \n",
       "0                0.000000             0.000000            0.465137    0.116284  \n",
       "1                0.391151             0.000000            0.000000    0.195575  \n",
       "2                0.000000             0.000000            0.308457    0.308457  \n",
       "3                0.000000             0.255316            0.000000    0.255316  \n",
       "4                0.000000             0.000000            0.215795    0.000000  "
      ]
     },
     "execution_count": 30,
     "metadata": {},
     "output_type": "execute_result"
    }
   ],
   "source": [
    "data_norm = normalize(data)\n",
    "\n",
    "data_norm = pd.DataFrame(data_norm, columns=data.columns)\n",
    "data_norm.head()"
   ]
  },
  {
   "cell_type": "code",
   "execution_count": 31,
   "metadata": {},
   "outputs": [
    {
     "name": "stdout",
     "output_type": "stream",
     "text": [
      "<class 'pandas.core.frame.DataFrame'>\n",
      "RangeIndex: 5244 entries, 0 to 5243\n",
      "Data columns (total 17 columns):\n",
      " #   Column                  Non-Null Count  Dtype  \n",
      "---  ------                  --------------  -----  \n",
      " 0   Unnamed: 0              5244 non-null   float64\n",
      " 1   Work_Experience         5244 non-null   float64\n",
      " 2   Family_Size             5244 non-null   float64\n",
      " 3   Graduated_No            5244 non-null   float64\n",
      " 4   Graduated_Yes           5244 non-null   float64\n",
      " 5   Graduated_nan           5244 non-null   float64\n",
      " 6   Profession_encoded      5244 non-null   float64\n",
      " 7   Var_1_encoded           5244 non-null   float64\n",
      " 8   Gender_Female           5244 non-null   float64\n",
      " 9   Gender_Male             5244 non-null   float64\n",
      " 10  Ever_Married_No         5244 non-null   float64\n",
      " 11  Ever_Married_Yes        5244 non-null   float64\n",
      " 12  Ever_Married_nan        5244 non-null   float64\n",
      " 13  Spending_Score_Average  5244 non-null   float64\n",
      " 14  Spending_Score_High     5244 non-null   float64\n",
      " 15  Spending_Score_Low      5244 non-null   float64\n",
      " 16  Age_bucket              5244 non-null   float64\n",
      "dtypes: float64(17)\n",
      "memory usage: 696.6 KB\n"
     ]
    }
   ],
   "source": [
    "data_norm.info()\n"
   ]
  },
  {
   "cell_type": "code",
   "execution_count": 32,
   "metadata": {},
   "outputs": [
    {
     "data": {
      "image/png": "[encoded data removed]",
      "text/plain": [
       "<Figure size 500x500 with 1 Axes>"
      ]
     },
     "metadata": {},
     "output_type": "display_data"
    }
   ],
   "source": [
    "## dendrogram\n",
    "import matplotlib.pyplot as plt\n",
    "subset_data = data_norm.sample(n=10)\n",
    "plt.figure(figsize=(5,5))\n",
    "plt.title('Dendrogram')\n",
    "dend = shc.dendrogram(shc.linkage(subset_data, method='ward'))"
   ]
  },
  {
   "cell_type": "code",
   "execution_count": 33,
   "metadata": {},
   "outputs": [
    {
     "data": {
      "text/plain": [
       "<matplotlib.lines.Line2D at 0x28c560c70>"
      ]
     },
     "execution_count": 33,
     "metadata": {},
     "output_type": "execute_result"
    },
    {
     "data": {
      "image/png": "[encoded data removed]",
      "text/plain": [
       "<Figure size 500x500 with 1 Axes>"
      ]
     },
     "metadata": {},
     "output_type": "display_data"
    }
   ],
   "source": [
    "## break\n",
    "plt.figure(figsize=(5,5))\n",
    "plt.title('Dedrogram')\n",
    "dend = shc.dendrogram(shc.linkage(subset_data, method=\"ward\"))\n",
    "plt.axhline(y=1.2, color= \"red\", linestyle=\"--\")"
   ]
  },
  {
   "cell_type": "code",
   "execution_count": 34,
   "metadata": {},
   "outputs": [],
   "source": [
    "pca = PCA(n_components=2)\n",
    "\n",
    "reduced_data = pca.fit_transform(data_norm)"
   ]
  },
  {
   "cell_type": "code",
   "execution_count": 35,
   "metadata": {},
   "outputs": [
    {
     "data": {
      "text/plain": [
       "array([[ 1.31298074e+00, -3.91153390e-01],\n",
       "       [ 9.56376870e-01,  4.73119828e-01],\n",
       "       [ 7.39124759e-01, -2.46262167e-01],\n",
       "       ...,\n",
       "       [-2.26028777e-03, -5.45051062e-04],\n",
       "       [-2.25294492e-03, -1.98130957e-04],\n",
       "       [-2.24520741e-03, -5.30136478e-04]])"
      ]
     },
     "execution_count": 35,
     "metadata": {},
     "output_type": "execute_result"
    }
   ],
   "source": [
    "reduced_data\n"
   ]
  },
  {
   "cell_type": "code",
   "execution_count": 36,
   "metadata": {},
   "outputs": [],
   "source": [
    "## train model\n",
    "cluster = AgglomerativeClustering(n_clusters=2, linkage='ward')\n",
    "\n",
    "now = cluster.fit_predict(reduced_data)"
   ]
  },
  {
   "cell_type": "code",
   "execution_count": 37,
   "metadata": {},
   "outputs": [
    {
     "data": {
      "text/plain": [
       "Text(0.5, 1.0, 'Scatter plot of wholesales data')"
      ]
     },
     "execution_count": 37,
     "metadata": {},
     "output_type": "execute_result"
    },
    {
     "data": {
      "image/png": "[encoded data removed]",
      "text/plain": [
       "<Figure size 500x500 with 1 Axes>"
      ]
     },
     "metadata": {},
     "output_type": "display_data"
    }
   ],
   "source": [
    "plt.figure(figsize=(5,5))\n",
    "plt.scatter(x=reduced_data[:,0],y = reduced_data[:,1], c=cluster.labels_, cmap='rainbow' )\n",
    "plt.title('Scatter plot of wholesales data')"
   ]
  },
  {
   "cell_type": "code",
   "execution_count": 38,
   "metadata": {},
   "outputs": [
    {
     "data": {
      "image/png": "[encoded data removed]",
      "text/plain": [
       "<Figure size 800x600 with 1 Axes>"
      ]
     },
     "metadata": {},
     "output_type": "display_data"
    },
    {
     "name": "stdout",
     "output_type": "stream",
     "text": [
      "Cluster 0: 5242 data points\n",
      "Cluster 1: 2 data points\n"
     ]
    }
   ],
   "source": [
    "# Assuming reduced_data and cluster are already defined\n",
    "# train model\n",
    "cluster = AgglomerativeClustering(n_clusters=2, linkage='ward')\n",
    "now = cluster.fit_predict(reduced_data)\n",
    "\n",
    "# Count the number of data points in each cluster\n",
    "unique_labels, counts = np.unique(cluster.labels_, return_counts=True)\n",
    "cluster_counts = dict(zip(unique_labels, counts))\n",
    "\n",
    "# Visualize the clusters\n",
    "plt.figure(figsize=(8, 6))\n",
    "plt.scatter(x=reduced_data[:, 0], y=reduced_data[:, 1], c=cluster.labels_, cmap='rainbow')\n",
    "plt.title('Scatter plot of data')\n",
    "plt.show()\n",
    "\n",
    "# Print the counts of data points in each cluster\n",
    "for label, count in cluster_counts.items():\n",
    "    print(f'Cluster {label}: {count} data points')"
   ]
  },
  {
   "cell_type": "code",
   "execution_count": 39,
   "metadata": {},
   "outputs": [
    {
     "data": {
      "text/html": [
       "<div>\n",
       "<style scoped>\n",
       "    .dataframe tbody tr th:only-of-type {\n",
       "        vertical-align: middle;\n",
       "    }\n",
       "\n",
       "    .dataframe tbody tr th {\n",
       "        vertical-align: top;\n",
       "    }\n",
       "\n",
       "    .dataframe thead th {\n",
       "        text-align: right;\n",
       "    }\n",
       "</style>\n",
       "<table border=\"1\" class=\"dataframe\">\n",
       "  <thead>\n",
       "    <tr style=\"text-align: right;\">\n",
       "      <th></th>\n",
       "      <th>reduced_cluster</th>\n",
       "    </tr>\n",
       "  </thead>\n",
       "  <tbody>\n",
       "    <tr>\n",
       "      <th>0</th>\n",
       "      <td>1</td>\n",
       "    </tr>\n",
       "    <tr>\n",
       "      <th>1</th>\n",
       "      <td>1</td>\n",
       "    </tr>\n",
       "    <tr>\n",
       "      <th>2</th>\n",
       "      <td>0</td>\n",
       "    </tr>\n",
       "    <tr>\n",
       "      <th>3</th>\n",
       "      <td>0</td>\n",
       "    </tr>\n",
       "    <tr>\n",
       "      <th>4</th>\n",
       "      <td>0</td>\n",
       "    </tr>\n",
       "    <tr>\n",
       "      <th>...</th>\n",
       "      <td>...</td>\n",
       "    </tr>\n",
       "    <tr>\n",
       "      <th>5239</th>\n",
       "      <td>0</td>\n",
       "    </tr>\n",
       "    <tr>\n",
       "      <th>5240</th>\n",
       "      <td>0</td>\n",
       "    </tr>\n",
       "    <tr>\n",
       "      <th>5241</th>\n",
       "      <td>0</td>\n",
       "    </tr>\n",
       "    <tr>\n",
       "      <th>5242</th>\n",
       "      <td>0</td>\n",
       "    </tr>\n",
       "    <tr>\n",
       "      <th>5243</th>\n",
       "      <td>0</td>\n",
       "    </tr>\n",
       "  </tbody>\n",
       "</table>\n",
       "<p>5244 rows × 1 columns</p>\n",
       "</div>"
      ],
      "text/plain": [
       "      reduced_cluster\n",
       "0                   1\n",
       "1                   1\n",
       "2                   0\n",
       "3                   0\n",
       "4                   0\n",
       "...               ...\n",
       "5239                0\n",
       "5240                0\n",
       "5241                0\n",
       "5242                0\n",
       "5243                0\n",
       "\n",
       "[5244 rows x 1 columns]"
      ]
     },
     "execution_count": 39,
     "metadata": {},
     "output_type": "execute_result"
    }
   ],
   "source": [
    "df = pd.DataFrame({'reduced_cluster': now})\n",
    "df"
   ]
  }
 ],
 "metadata": {
  "kernelspec": {
   "display_name": "Python 3",
   "language": "python",
   "name": "python3"
  },
  "language_info": {
   "codemirror_mode": {
    "name": "ipython",
    "version": 3
   },
   "file_extension": ".py",
   "mimetype": "text/x-python",
   "name": "python",
   "nbconvert_exporter": "python",
   "pygments_lexer": "ipython3",
   "version": "3.9.6"
  }
 },
 "nbformat": 4,
 "nbformat_minor": 2
}
